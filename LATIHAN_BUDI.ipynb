{
  "nbformat": 4,
  "nbformat_minor": 0,
  "metadata": {
    "colab": {
      "provenance": [],
      "authorship_tag": "ABX9TyPDMsm3FuFeGPpQ+R9U4Dwn",
      "include_colab_link": true
    },
    "kernelspec": {
      "name": "python3",
      "display_name": "Python 3"
    },
    "language_info": {
      "name": "python"
    }
  },
  "cells": [
    {
      "cell_type": "markdown",
      "metadata": {
        "id": "view-in-github",
        "colab_type": "text"
      },
      "source": [
        "<a href=\"https://colab.research.google.com/github/Budikurnia26/SD2104/blob/main/LATIHAN_BUDI.ipynb\" target=\"_parent\"><img src=\"https://colab.research.google.com/assets/colab-badge.svg\" alt=\"Open In Colab\"/></a>"
      ]
    },
    {
      "cell_type": "code",
      "source": [
        "def mencari_berat_badan():\n",
        "  berat_badan = float(input(\"Masukkan berat badan Atlit (kg): \"))\n",
        "\n",
        "  if berat_badan <= 45:\n",
        "    print(\"kelas A\")\n",
        "  elif berat_badan <= 50:\n",
        "    print(\"kelas B\")\n",
        "  elif berat_badan <= 55:\n",
        "    print(\"kelas C\")\n",
        "  elif berat_badan <= 60:\n",
        "    print(\"kelas D\")\n",
        "  elif berat_badan <= 70:\n",
        "    print(\"kelas E\")\n",
        "  else: berat_badan > 70\n",
        "    print(\"kelas F\")\n",
        "    return berat_badan\n",
        "\n",
        "\n",
        "\n",
        "\n"
      ],
      "metadata": {
        "id": "1Tgh4NNCZdE_"
      },
      "execution_count": null,
      "outputs": []
    },
    {
      "cell_type": "markdown",
      "source": [
        "SOAL 2"
      ],
      "metadata": {
        "id": "2wS7owoZZjHO"
      }
    },
    {
      "cell_type": "code",
      "source": [
        "#Input bilangan 3 digit\n",
        "angka = int(input(\"Masukkan bilangan 3 digit: \"))\n",
        "# Memisahkan setiap digit\n",
        "ratusan = angka // 100\n",
        "puluhan = (angka % 100) // 10\n",
        "satuan = angka % 10\n",
        "# Menghitung jumlah pangkat 3 dari setiap digit\n",
        "hasil = (ratusan * 3) + (puluhan * 3) + (satuan ** 3)\n",
        "# Mengecek apakah bilangan Armstrong\n",
        "if angka == hasil:\n",
        "print(f\"{angka} adalah bilangan Armstrong\")\n",
        "print(f\"Karena {ratusan}^3 + {puluhan}^3 + {satuan}^3 = {hasil}\")\n",
        "else:\n",
        "print(f\"{angka} bukan bilangan Armstrong\")\n",
        "print(f\"Karena {ratusan}^3 + {puluhan}^3 + {satuan}^3 = {hasil}\")\n"
      ],
      "metadata": {
        "id": "oNeu45CrZdCW"
      },
      "execution_count": null,
      "outputs": []
    },
    {
      "cell_type": "markdown",
      "source": [
        "SOAL 3"
      ],
      "metadata": {
        "id": "Y0QmfYlvZpBV"
      }
    },
    {
      "cell_type": "code",
      "source": [
        "phi = 3.1416\n",
        "def volume_bola(jari_jari)\n",
        "  return (4/3) * phi * jari_jari ** 3\n",
        "\n",
        "  jari_jari = float(input(\"Masukkan jari-jari bola: \"))\n",
        " if jari_jari.replace('.',\",1.isdigit \"()) or (jari_jari_input.starswith('-')and jari_jari_input[1:].replace('.',\",1.sdigit\"())):\n",
        "  jari_jari = float(jari_jari_input)\n",
        "\n",
        "  if jari_jari < 0\n",
        "  print(\"Jari_jari tidak boleh negatif\")\n",
        "  else:\n",
        "    volume = volume_bola(jari_jari)\n",
        "    print(f\"Volume bola dengan jari_jari {jari_jari} adalah {volume:.4f}\")\n",
        ""
      ],
      "metadata": {
        "id": "XOFYs5XmZc8_"
      },
      "execution_count": null,
      "outputs": []
    },
    {
      "cell_type": "markdown",
      "source": [
        "SOAL 4"
      ],
      "metadata": {
        "id": "XoLhVsNvZqjd"
      }
    },
    {
      "cell_type": "code",
      "source": [
        "tinggi_badan = input(\"Masukan tinggi badan siswa : \")\n",
        "daftar_tinggi = list(map(int, tinggi_badan.split()))\n",
        "tinngi_valid = [tinggi for tinggi in daftar_tinggi if 100 <= tinggi <= 200]\n",
        "print(f\"Jumlah siswa yang valid : {len(tinggi_valid)}\")\n"
      ],
      "metadata": {
        "id": "dCrdGJGvZc5u"
      },
      "execution_count": null,
      "outputs": []
    },
    {
      "cell_type": "markdown",
      "source": [
        "SOAL 5"
      ],
      "metadata": {
        "id": "d6rDxHgpZr61"
      }
    },
    {
      "cell_type": "code",
      "execution_count": null,
      "metadata": {
        "id": "tHKxzdogZcAE"
      },
      "outputs": [],
      "source": [
        "def tentukan_indeks(nilai_akhir):\n",
        "  if nilai_akhir >= 85:\n",
        "    return \"A\"\n",
        "  elif 75 <= nilai_akhir >= 85:\n",
        "    return \"AB\"\n",
        "  elif 70 <= nilai_akhir >= 75:\n",
        "    return \"B\"\n",
        "  elif 60 <= nilai_akhir >= 70:\n",
        "    return \"BC\"\n",
        "  elif 50 <= nilai_akhir >= 60:\n",
        "    return \"C\"\n",
        "  elif 40 <= nilai_akhir >= 50:\n",
        "    return \"D\"\n",
        "  else:\n",
        "    return \"E\"\n",
        "\n",
        "N = int(input(\"Masukkan jumlah mahasiswa: \"))\n",
        "data_mahasiswa = []\n",
        "for i in range(N):\n",
        "  nama = input(f\"Masukkan nama mahsiswaa: \")\n",
        "  praktikum = float(input(f\"Masukkan nilai praktikum{nama}: \"))\n",
        "  UTS = float(input(f\"Masukkan nilai UTS {nama}: \"))\n",
        "  UAS = float(input(f\"Masukkan nilai UAS {nama}: \"))\n",
        "  nilai_akhir = (0.2 * praktikum) + (0.4 * UTS) + (0.4 * UAS)\n",
        "  indeks = tentukan_indeks(nilai_akhir)\n",
        "  data_mahasiswa.append((nama, praktikum, UTS, UAS, nilai_akhir, indeks))\n",
        "  print(\"\\nnama | praktikum | UTS | UAS | nilai akhir | indeks\")\n",
        "  for mahasiswa in data_mahasiswa:\n",
        "    print(f\"{mahasiswa [0]} | {mahasiswa [1]:.2f}\")"
      ]
    }
  ]
}