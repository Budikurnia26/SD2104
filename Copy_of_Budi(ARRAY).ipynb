{
  "nbformat": 4,
  "nbformat_minor": 0,
  "metadata": {
    "colab": {
      "provenance": [],
      "include_colab_link": true
    },
    "kernelspec": {
      "name": "python3",
      "display_name": "Python 3"
    },
    "language_info": {
      "name": "python"
    }
  },
  "cells": [
    {
      "cell_type": "markdown",
      "metadata": {
        "id": "view-in-github",
        "colab_type": "text"
      },
      "source": [
        "<a href=\"https://colab.research.google.com/github/Budikurnia26/SD2104/blob/main/Copy_of_Budi(ARRAY).ipynb\" target=\"_parent\"><img src=\"https://colab.research.google.com/assets/colab-badge.svg\" alt=\"Open In Colab\"/></a>"
      ]
    },
    {
      "cell_type": "markdown",
      "source": [
        "#🤸🏻‍♀️ EKSPLORASI PRIBADI DI KELAS ✨"
      ],
      "metadata": {
        "id": "N0U2Qjks8P9F"
      }
    },
    {
      "cell_type": "markdown",
      "source": [
        "#**🖥️👩🏻‍💻PRAKTIKUM PEMROGRAMAN LANJUT🔥**\n",
        "##**Pertemuan (3)ARRAY - Senin, 28 Oktober 2024**\n",
        "\n",
        "👤 Nama: BUDI KURNIA/ NRP: 2C2230018 / Kelas: III/A Sains Data\n",
        "\n",
        "💬Deskripsi Pembahasan Materi ARRAY:\n"
      ],
      "metadata": {
        "id": "_bN6_LxQCJZT"
      }
    },
    {
      "cell_type": "code",
      "source": [
        "#Mengembalikan sebuah aarray\n",
        "cars = [\"Ford\", \"Volvo\", \"BMW\"]\n",
        "x = len(cars)\n",
        "print(x)"
      ],
      "metadata": {
        "id": "sziAz2R5UiJC",
        "outputId": "d90da443-e77f-4fc6-ffba-ef4754a2f403",
        "colab": {
          "base_uri": "https://localhost:8080/"
        }
      },
      "execution_count": null,
      "outputs": [
        {
          "output_type": "stream",
          "name": "stdout",
          "text": [
            "3\n"
          ]
        }
      ]
    },
    {
      "cell_type": "code",
      "source": [
        "#FOR\n",
        "cars = [\"Ford\", \"Volvo\", \"BMW\"]\n",
        "for x in cars:\n",
        "  print(x)"
      ],
      "metadata": {
        "id": "iOaZBG1eVN-q",
        "outputId": "ba0ded3f-7418-4234-d28e-620f36716d0a",
        "colab": {
          "base_uri": "https://localhost:8080/"
        }
      },
      "execution_count": null,
      "outputs": [
        {
          "output_type": "stream",
          "name": "stdout",
          "text": [
            "Ford\n",
            "Volvo\n",
            "BMW\n"
          ]
        }
      ]
    },
    {
      "cell_type": "code",
      "source": [
        "#menambahkan elemen\n",
        "cars = [\"Ford\", \"Volvo\", \"BMW\"]\n",
        "cars.append(\"Vario Budi\")\n",
        "print(cars)"
      ],
      "metadata": {
        "id": "qWjYi7HpVdvy",
        "outputId": "aee11680-5676-4e26-9ba0-354455c2bc31",
        "colab": {
          "base_uri": "https://localhost:8080/"
        }
      },
      "execution_count": null,
      "outputs": [
        {
          "output_type": "stream",
          "name": "stdout",
          "text": [
            "['Ford', 'Volvo', 'BMW', 'Vario Budi']\n"
          ]
        }
      ]
    },
    {
      "cell_type": "code",
      "source": [
        "#Hapus elemen kedua array (POP)\n",
        "cars = [\"Nadine\", \"Amel\", \"Fitri\", \"Naya\", \"Rere\"]\n",
        "cars.pop(2)\n",
        "print(cars)"
      ],
      "metadata": {
        "id": "BecR4F0KV3IC",
        "outputId": "725362d9-c55c-4fd2-940d-b0ebc445a5a2",
        "colab": {
          "base_uri": "https://localhost:8080/"
        }
      },
      "execution_count": null,
      "outputs": [
        {
          "output_type": "stream",
          "name": "stdout",
          "text": [
            "['Nadine', 'Amel', 'Naya', 'Rere']\n"
          ]
        }
      ]
    },
    {
      "cell_type": "code",
      "execution_count": 2,
      "metadata": {
        "id": "itmMcxv88OIm",
        "outputId": "148a02a9-eab9-47f0-8c6c-b59f5a4b3a75",
        "colab": {
          "base_uri": "https://localhost:8080/"
        }
      },
      "outputs": [
        {
          "output_type": "stream",
          "name": "stdout",
          "text": [
            "['Toyota', 'Volvo', 'BMW']\n"
          ]
        }
      ],
      "source": [
        "#Menampilkan dan mengganti nama urutan pertama\n",
        "cars = [\"Ford\", \"Volvo\", \"BMW\"]\n",
        "cars[0]=\"Toyota\"\n",
        "print(cars)"
      ]
    },
    {
      "cell_type": "markdown",
      "source": [
        "LIST"
      ],
      "metadata": {
        "id": "5isLMlIrimvj"
      }
    },
    {
      "cell_type": "code",
      "source": [
        "data_array = [1, 2, 3, 4, 5]\n",
        "print(data_array)"
      ],
      "metadata": {
        "colab": {
          "base_uri": "https://localhost:8080/"
        },
        "id": "rwe9uBGWiihT",
        "outputId": "45578d64-7837-479a-f481-12c33a8516f3"
      },
      "execution_count": 1,
      "outputs": [
        {
          "output_type": "stream",
          "name": "stdout",
          "text": [
            "[1, 2, 3, 4, 5]\n"
          ]
        }
      ]
    },
    {
      "cell_type": "markdown",
      "source": [
        "#🧠 LATIHAN SOAL DI KELAS ⏱️"
      ],
      "metadata": {
        "id": "KEGjH0_P9D1-"
      }
    },
    {
      "cell_type": "markdown",
      "source": [
        "ANAGRAM"
      ],
      "metadata": {
        "id": "2WNPTGAxhSa1"
      }
    },
    {
      "cell_type": "code",
      "source": [
        "# Fungsi untuk menghitung tabel frekuensi elemen dalam sebuah array\n",
        "def hitung_frekuensi(arr):\n",
        "    freq = [0] * 11  # Karena elemen maksimal bernilai 10, indeks 0 diabaikan\n",
        "    for elemen in arr:\n",
        "        freq[elemen] += 1\n",
        "    return freq\n",
        "\n",
        "# Meminta input banyaknya elemen dan elemen-elemen array A\n",
        "nA = int(input(\"Masukkan banyaknya elemen A: \"))\n",
        "A = []\n",
        "for i in range(nA):\n",
        "    elemen = int(input(f\"Masukkan elemen A ke-{i+1}: \"))\n",
        "    A.append(elemen)\n",
        "\n",
        "# Meminta input banyaknya elemen dan elemen-elemen array B\n",
        "nB = int(input(\"Masukkan banyaknya elemen B: \"))\n",
        "B = []\n",
        "for i in range(nB):\n",
        "    elemen = int(input(f\"Masukkan elemen B ke-{i+1}: \"))\n",
        "    B.append(elemen)\n",
        "\n",
        "# Memeriksa apakah B merupakan anagram dari A\n",
        "if nA != nB:\n",
        "    print(\"B bukan anagram dari A\")\n",
        "else:\n",
        "    freqA = hitung_frekuensi(A)\n",
        "    freqB = hitung_frekuensi(B)\n",
        "\n",
        "    if freqA == freqB:\n",
        "        print(\"B adalah anagram dari A\")\n",
        "    else:\n",
        "        print(\"B bukan anagram dari A\")1\n"
      ],
      "metadata": {
        "colab": {
          "base_uri": "https://localhost:8080/"
        },
        "id": "-Ih_OgFoht1c",
        "outputId": "29377fdd-77ef-49f3-cfce-0ea3e22bc387"
      },
      "execution_count": null,
      "outputs": [
        {
          "output_type": "stream",
          "name": "stdout",
          "text": [
            "Masukkan banyaknya elemen A: 2\n",
            "Masukkan elemen A ke-1: 1\n",
            "Masukkan elemen A ke-2: 4\n",
            "Masukkan banyaknya elemen B: 2\n",
            "Masukkan elemen B ke-1: 5\n",
            "Masukkan elemen B ke-2: 5\n",
            "B bukan anagram dari A\n"
          ]
        }
      ]
    },
    {
      "cell_type": "code",
      "source": [
        "# Fungsi untuk menghitung tabel frekuensi elemen dalam sebuah array\n",
        "def hitung_frekuensi(arr):\n",
        "    freq = [0] * 11  # Karena elemen maksimal bernilai 10, indeks 0 diabaikan\n",
        "    for elemen in arr:\n",
        "        freq[elemen] += 1\n",
        "    return freq\n",
        "\n",
        "# Meminta input banyaknya elemen dan elemen-elemen array A\n",
        "nA = int(input(\"Masukkan banyaknya elemen A: \"))\n",
        "A = []\n",
        "for i in range(nA):\n",
        "    elemen = int(input(f\"Masukkan elemen A ke-{i+1}: \"))\n",
        "    A.append(elemen)\n",
        "\n",
        "# Meminta input banyaknya elemen dan elemen-elemen array B\n",
        "nB = int(input(\"Masukkan banyaknya elemen B: \"))\n",
        "B = []\n",
        "for i in range(nB):\n",
        "    elemen = int(input(f\"Masukkan elemen B ke-{i+1}: \"))\n",
        "    B.append(elemen)\n",
        "\n",
        "# Memeriksa apakah B merupakan anagram dari A\n",
        "if nA != nB:\n",
        "    print(\"B bukan anagram dari A\")\n",
        "else:\n",
        "    freqA = hitung_frekuensi(A)\n",
        "    freqB = hitung_frekuensi(B)\n",
        "\n",
        "    if freqA == freqB:\n",
        "        print(\"B adalah anagram dari A\")\n",
        "    else:\n",
        "        print(\"B bukan anagram dari A\")"
      ],
      "metadata": {
        "colab": {
          "base_uri": "https://localhost:8080/"
        },
        "id": "0IKHCan3gjQr",
        "outputId": "31905e88-be0f-4228-fcad-e91a5dc4541c"
      },
      "execution_count": null,
      "outputs": [
        {
          "output_type": "stream",
          "name": "stdout",
          "text": [
            "Masukkan banyaknya elemen A: 3\n",
            "Masukkan elemen A ke-1: 8\n",
            "Masukkan elemen A ke-2: 4\n",
            "Masukkan elemen A ke-3: 3\n",
            "Masukkan banyaknya elemen B: 3\n",
            "Masukkan elemen B ke-1: 4\n",
            "Masukkan elemen B ke-2: 8\n",
            "Masukkan elemen B ke-3: 3\n",
            "B adalah anagram dari A\n"
          ]
        }
      ]
    },
    {
      "cell_type": "markdown",
      "source": [
        "Buatlah Program yang menerima N buah dan mneuliskan kembali bilangan-bilangan tersebut,namun dengan urutran terbalik. #REVERSED"
      ],
      "metadata": {
        "id": "2soPS42re97f"
      }
    },
    {
      "cell_type": "code",
      "source": [
        "N = int(input(\"Masukan N:\"))\n",
        "bilangan = []\n",
        "for i in range(N):\n",
        "  bilangan.append(angka)\n",
        "  print(\"Hasil dibalik:\")\n",
        "  for angka in reversed(bilangan):\n",
        "    print(angka, end=\" \")"
      ],
      "metadata": {
        "colab": {
          "base_uri": "https://localhost:8080/"
        },
        "id": "JNTPOouKeS41",
        "outputId": "fb366c0a-909c-4d2e-a3fd-0df1c3500c97"
      },
      "execution_count": null,
      "outputs": [
        {
          "output_type": "stream",
          "name": "stdout",
          "text": [
            "Masukan N:5\n",
            "Hasil dibalik:\n",
            "36125 Hasil dibalik:\n",
            "36125 36125 Hasil dibalik:\n",
            "36125 36125 36125 Hasil dibalik:\n",
            "36125 36125 36125 36125 Hasil dibalik:\n",
            "36125 36125 36125 36125 36125 "
          ]
        }
      ]
    },
    {
      "cell_type": "markdown",
      "source": [
        "PALINDROM\n"
      ],
      "metadata": {
        "id": "nt7-fY7s9PgC"
      }
    },
    {
      "cell_type": "code",
      "source": [
        "#Panjang String\n",
        "Panjang_string = int(input(\"Masukkan Panjang String: \"))\n",
        "\n",
        "#meminta input\n",
        "string = input(\"Masukan String:\").lower()\n",
        "\n",
        "#Memeriksa string apakah palindrom\n",
        "if string == string[::-1]:\n",
        "  print(\"String Palindrom\")\n",
        "else:\n",
        "  print(\"String Bukan Palindrom\")\n"
      ],
      "metadata": {
        "id": "h7si6sBj9Mr4",
        "outputId": "594aa53c-22a7-439a-9d96-1ff915cdfdb2",
        "colab": {
          "base_uri": "https://localhost:8080/"
        }
      },
      "execution_count": null,
      "outputs": [
        {
          "output_type": "stream",
          "name": "stdout",
          "text": [
            "Masukkan Panjang String: 5\n",
            "Masukan String:ahmad\n",
            "String Bukan Palindrom\n"
          ]
        }
      ]
    },
    {
      "cell_type": "code",
      "source": [
        "#Panjang String\n",
        "Panjang_string = int(input(\"Masukkan Panjang String: \"))\n",
        "\n",
        "#meminta input\n",
        "string = input(\"Masukan String:\").lower()\n",
        "\n",
        "#Memeriksa string apakah palindrom\n",
        "if string == string[::-1]:\n",
        "  print(\"String Palindrom\")\n",
        "else:\n",
        "  print(\"String adalah Palindrom\")"
      ],
      "metadata": {
        "id": "9uWMEZpP9hlB",
        "colab": {
          "base_uri": "https://localhost:8080/"
        },
        "outputId": "6de58eb4-b1f0-42b8-8d2d-bf17f4959e24"
      },
      "execution_count": null,
      "outputs": [
        {
          "output_type": "stream",
          "name": "stdout",
          "text": [
            "Masukkan Panjang String: 10\n",
            "Masukan String:kasurrusak\n",
            "String Palindrom\n"
          ]
        }
      ]
    },
    {
      "cell_type": "code",
      "source": [
        "\n",
        "#Panjang String\n",
        "Panjang_string = int(input(\"Masukkan Panjang String: \"))\n",
        "\n",
        "#meminta input\n",
        "string = input(\"Masukan String:\").lower()\n",
        "\n",
        "#Memeriksa string apakah palindrom\n",
        "if string == string[::-1]:\n",
        "  print(\"String Palindrom\")\n",
        "else:\n",
        "  print(\"String adalah Palindrom\")"
      ],
      "metadata": {
        "colab": {
          "base_uri": "https://localhost:8080/"
        },
        "id": "ZCObBFvfa1t3",
        "outputId": "7c955ef9-f67b-4a17-958f-ec9417bdca4f"
      },
      "execution_count": null,
      "outputs": [
        {
          "output_type": "stream",
          "name": "stdout",
          "text": [
            "Masukkan Panjang String: 3\n",
            "Masukan String:apa\n",
            "String Palindrom\n"
          ]
        }
      ]
    },
    {
      "cell_type": "markdown",
      "source": [
        "#🏆 POST TEST 🎯"
      ],
      "metadata": {
        "id": "J_75vTSXKFGE"
      }
    },
    {
      "cell_type": "markdown",
      "source": [
        "Problem (1)"
      ],
      "metadata": {
        "id": "twhHfrqiKSfV"
      }
    },
    {
      "cell_type": "code",
      "source": [],
      "metadata": {
        "id": "hOI8Gls9KV05"
      },
      "execution_count": null,
      "outputs": []
    },
    {
      "cell_type": "markdown",
      "source": [
        "- Interpretasi coding:\n",
        "- Interpretasi hasil:"
      ],
      "metadata": {
        "id": "t9x---59KWVI"
      }
    },
    {
      "cell_type": "markdown",
      "source": [
        "📌Catatan:\n",
        "  - Notebook python ini dibuat untuk memudahkan temen-temen belajar ngoding dan pengumpulan tugas.\n",
        "  - Silakan download notebook ini lalu upload di Google Collab milik kalian agar format `pertemuan`, `topik pertemuan`,\n",
        "`tanggal`, `deskripsi pembahasan materi`, `baris coding` dan `interpretasi` bisa disesuaikan dengan kebutuhan teman-teman.\n",
        "\n",
        "  - Interpretasi coding dan hasil dimaksudkan agar teman-teman semakin memahami apa yang dipelajari.\n",
        "\n",
        "  - Deskripsi pembahasan materi dimaksudkan agar teman-teman semakin memahami apa fokus yang dipelajari.\n",
        "\n",
        "  - Tulisan di setiap sebelum baris code disebut `markdown`. Ada beberapa jenis simbol yang memudahkan kepenulisan `markdown` kita, yaitu seperti : untuk mengatur ukuran tulisan biasanya tulisan pada header menggunakan ini`#`, `##`, `###`, untuk membuat pointer menggunakan ini `-`, untuk membuat tulisan ter-highlight menggunakan ini *` `* , untuk short-cut membuat tulisan jadi **bold** gunakan ini `** **`, dan untuk *tulisan miring* gunakan ini `* *` .\n",
        "\n",
        "  - Semangat belajar! 🌟✨\n",
        "\n",
        "©️ LABORATORIUM SAINS DATA 2024"
      ],
      "metadata": {
        "id": "D-tRQnbQK69l"
      }
    }
  ]
}